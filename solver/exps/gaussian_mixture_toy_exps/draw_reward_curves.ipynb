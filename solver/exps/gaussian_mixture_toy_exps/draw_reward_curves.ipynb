{
 "cells": [
  {
   "cell_type": "code",
   "execution_count": 1,
   "metadata": {},
   "outputs": [],
   "source": [
    "%load_ext autoreload\n",
    "%autoreload 2"
   ]
  },
  {
   "cell_type": "code",
   "execution_count": 2,
   "metadata": {},
   "outputs": [],
   "source": [
    "from utils_visualise import plot_curves, plot4figs\n",
    "from matplotlib import pyplot as plt"
   ]
  },
  {
   "cell_type": "code",
   "execution_count": 3,
   "metadata": {},
   "outputs": [],
   "source": [
    "class Namespace:\n",
    "    def __init__(self, **kwargs):\n",
    "        self.__dict__.update(kwargs)\n",
    "default_settings = Namespace(device='cuda:0', entropy=0., plot=False, max_steps=150)\n",
    "#parser.add_argument('--device', default='cuda:0', type=str)\n",
    "#parser.add_argument('--entropy', default=0., type=float)\n",
    "#parser.add_argument('--plot', action='store_true', default=False)\n",
    "#parser.add_argument('--max_steps', type=int, default=10000)"
   ]
  },
  {
   "cell_type": "code",
   "execution_count": 4,
   "metadata": {},
   "outputs": [],
   "source": [
    "n_run = 10\n",
    "POLICYS = ['GMM-v1', 'normal-v1', 'normal-v2', 'Gumbel']\n",
    "COLORS = ['green', 'blue', 'magenta', 'red']"
   ]
  },
  {
   "cell_type": "code",
   "execution_count": 5,
   "metadata": {},
   "outputs": [],
   "source": [
    "args = Namespace(policy='normal-v1', batch_size=128, grad_size=0.6, maximum=4., init_std=0.1, **default_settings.__dict__)\n",
    "#parser.add_argument('--policy', default='normal-v1', type=str, choices=['normal-v1', 'normal-v2', 'GMM-v1', 'GMM-v2', 'GMM-v3', 'Gumbel'])\n",
    "#parser.add_argument('--batch_size', type=int, default=128)\n",
    "#parser.add_argument('--init_std', type=float, default=0.1)"
   ]
  },
  {
   "cell_type": "code",
   "execution_count": 6,
   "metadata": {},
   "outputs": [],
   "source": [
    "#plot_curves(args, n_run, POLICYS, COLORS)"
   ]
  },
  {
   "cell_type": "code",
   "execution_count": 7,
   "metadata": {},
   "outputs": [],
   "source": [
    "\n",
    "GRAD_SIZE_LIST = [0.6, 10]\n",
    "MAXIMUM_LIST = [4., 0.]\n",
    "#parser.add_argument('--grad_size', type=float, default=0.6) # choices 0.6, 10.\n",
    "#parser.add_argument('--maximum', type=float, default=4.) # choices 4., 0."
   ]
  },
  {
   "cell_type": "code",
   "execution_count": 1,
   "metadata": {},
   "outputs": [
    {
     "name": "stdout",
     "output_type": "stream",
     "text": [
      "init-std: 0.1\n"
     ]
    },
    {
     "ename": "NameError",
     "evalue": "name 'args' is not defined",
     "output_type": "error",
     "traceback": [
      "\u001b[0;31m---------------------------------------------------------------------------\u001b[0m",
      "\u001b[0;31mNameError\u001b[0m                                 Traceback (most recent call last)",
      "\u001b[0;32m/tmp/ipykernel_11500/2824918192.py\u001b[0m in \u001b[0;36m<module>\u001b[0;34m\u001b[0m\n\u001b[1;32m      3\u001b[0m \u001b[0;32mfor\u001b[0m \u001b[0minit_std\u001b[0m \u001b[0;32min\u001b[0m \u001b[0mINIT_STD_LIST\u001b[0m\u001b[0;34m:\u001b[0m\u001b[0;34m\u001b[0m\u001b[0;34m\u001b[0m\u001b[0m\n\u001b[1;32m      4\u001b[0m     \u001b[0mprint\u001b[0m\u001b[0;34m(\u001b[0m\u001b[0;34m'init-std:'\u001b[0m\u001b[0;34m,\u001b[0m \u001b[0minit_std\u001b[0m\u001b[0;34m)\u001b[0m\u001b[0;34m\u001b[0m\u001b[0;34m\u001b[0m\u001b[0m\n\u001b[0;32m----> 5\u001b[0;31m     \u001b[0margs\u001b[0m\u001b[0;34m.\u001b[0m\u001b[0minit_std\u001b[0m \u001b[0;34m=\u001b[0m \u001b[0minit_std\u001b[0m\u001b[0;34m\u001b[0m\u001b[0;34m\u001b[0m\u001b[0m\n\u001b[0m\u001b[1;32m      6\u001b[0m     \u001b[0;32mfor\u001b[0m \u001b[0mbatch_size\u001b[0m \u001b[0;32min\u001b[0m \u001b[0mBATCH_SIZE_LIST\u001b[0m\u001b[0;34m:\u001b[0m\u001b[0;34m\u001b[0m\u001b[0;34m\u001b[0m\u001b[0m\n\u001b[1;32m      7\u001b[0m         \u001b[0margs\u001b[0m\u001b[0;34m.\u001b[0m\u001b[0mbatch_size\u001b[0m \u001b[0;34m=\u001b[0m \u001b[0mbatch_size\u001b[0m\u001b[0;34m\u001b[0m\u001b[0;34m\u001b[0m\u001b[0m\n",
      "\u001b[0;31mNameError\u001b[0m: name 'args' is not defined"
     ]
    }
   ],
   "source": [
    "INIT_STD_LIST = [0.1, 0.2, 0.6]\n",
    "BATCH_SIZE_LIST = [1, 128, 100000]\n",
    "for init_std in INIT_STD_LIST:\n",
    "    print('init-std:', init_std)\n",
    "    args.init_std = init_std\n",
    "    for batch_size in BATCH_SIZE_LIST:\n",
    "        args.batch_size = batch_size\n",
    "        if batch_size == 1:\n",
    "            args.max_steps = 600\n",
    "        else:\n",
    "            args.max_steps = 150\n",
    "        plot4figs(args, n_run, GRAD_SIZE_LIST, MAXIMUM_LIST, POLICYS, COLORS)"
   ]
  },
  {
   "cell_type": "code",
   "execution_count": null,
   "metadata": {},
   "outputs": [],
   "source": []
  },
  {
   "cell_type": "code",
   "execution_count": null,
   "metadata": {},
   "outputs": [],
   "source": []
  },
  {
   "cell_type": "code",
   "execution_count": null,
   "metadata": {},
   "outputs": [],
   "source": []
  }
 ],
 "metadata": {
  "interpreter": {
   "hash": "fb52212756370ccfc5f09bf134b6fec74b3baff9bf03b5a0c4d1cddcdf30681a"
  },
  "kernelspec": {
   "display_name": "plb",
   "language": "python",
   "name": "python3"
  },
  "language_info": {
   "codemirror_mode": {
    "name": "ipython",
    "version": 3
   },
   "file_extension": ".py",
   "mimetype": "text/x-python",
   "name": "python",
   "nbconvert_exporter": "python",
   "pygments_lexer": "ipython3",
   "version": "3.7.11"
  },
  "orig_nbformat": 4
 },
 "nbformat": 4,
 "nbformat_minor": 2
}
